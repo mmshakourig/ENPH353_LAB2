{
 "cells": [
  {
   "cell_type": "markdown",
   "metadata": {},
   "source": [
    "ENPH 353 Lab 2 - Line Detection"
   ]
  },
  {
   "cell_type": "markdown",
   "metadata": {},
   "source": [
    "Imports"
   ]
  },
  {
   "cell_type": "code",
   "execution_count": null,
   "metadata": {},
   "outputs": [],
   "source": [
    "import numpy as np\n",
    "import matplotlib.pyplot as plt\n",
    "import cv2 as cv\n",
    "import skimage.measure as m"
   ]
  },
  {
   "cell_type": "code",
   "execution_count": null,
   "metadata": {},
   "outputs": [],
   "source": [
    "vidPath = 'C:/MohammadMahdi/University/Third Yr/ENPH 353/Labs/ENPH353_LAB2/raw_video_feed.mp4'\n",
    "vidCap = cv.VideoCapture(vidPath)\n",
    "\n",
    "# Check if the video file was opened successfully\n",
    "if not vidCap.isOpened():\n",
    "    print(\"Error: Could not open video file.\")\n",
    "    exit()\n",
    "\n",
    "# Initialize an empty list to store frames\n",
    "frames = []\n",
    "\n",
    "# Loop to read frames from the video\n",
    "while True:\n",
    "    # Read a frame\n",
    "    ret, frame = vidCap.read()\n",
    "\n",
    "    # Check if the end of the video is reached\n",
    "    if not ret:\n",
    "        break\n",
    "\n",
    "    # Append the frame to the list\n",
    "    frames.append(frame)\n",
    "\n",
    "# Convert the list of frames to a NumPy array\n",
    "frames = np.array(frames)\n",
    "\n",
    "# Release the VideoCapture\n",
    "vidCap.release()"
   ]
  },
  {
   "cell_type": "markdown",
   "metadata": {},
   "source": [
    "Next, I am trying to break all frames into four groups so visualising them takes less time and I don't have to look at all the frames at the same time. I also randomly checked a few frames and realized that all channels have the same values, so I assumed thats true for all the frames. To reduce computation time, I have only grabbed the first channel instead of averaging or another greyscale method."
   ]
  },
  {
   "cell_type": "code",
   "execution_count": null,
   "metadata": {},
   "outputs": [],
   "source": [
    "frames.shape\n",
    "frames1 = frames[0:200,:,:,1]\n",
    "frames2 = frames[200:400,:,:,1]\n",
    "frames3 = frames[400:600,:,:,1]\n",
    "frames4 = frames[600:800,:,:,1]"
   ]
  },
  {
   "cell_type": "code",
   "execution_count": null,
   "metadata": {},
   "outputs": [],
   "source": [
    "testingfrs = frames1\n",
    "\n",
    "fig, axs = plt.subplots(10, 20, figsize=(20,10), subplot_kw={'xticks':[], 'yticks':[]})\n",
    "# plt.subplots_adjust(left=0, right=0.01, top=0.01, bottom=0)\n",
    "\n",
    "prevCenter = (0,0)\n",
    "for ax, fr in zip(axs.flat, testingfrs):\n",
    "  frBN = fr < 90\n",
    "  frBN = frBN.astype(int)\n",
    "  regions = m.regionprops(frBN)\n",
    "  regions.sort(key=lambda x: x.area, reverse=True)\n",
    "  try:\n",
    "    roadCntr = regions[0].centroid\n",
    "    prevCenter = roadCntr\n",
    "  except:\n",
    "    roadCntr = prevCenter\n",
    "\n",
    "  ax.imshow(frBN, cmap='gray')\n",
    "  ax.plot(roadCntr[1], roadCntr[0], 'ro', markersize=5)\n",
    "\n",
    "plt.show()"
   ]
  },
  {
   "cell_type": "code",
   "execution_count": null,
   "metadata": {},
   "outputs": [],
   "source": []
  },
  {
   "cell_type": "code",
   "execution_count": null,
   "metadata": {},
   "outputs": [],
   "source": []
  },
  {
   "cell_type": "code",
   "execution_count": null,
   "metadata": {},
   "outputs": [],
   "source": [
    "frB = frames_array[163,:,:,1] < 90\n",
    "fr = frames_array[163,:,:,:]\n",
    "\n",
    "frBN = frB.astype(int)\n",
    "regions = m.regionprops(frBN)\n",
    "regions.sort(key=lambda x: x.area, reverse=True)\n",
    "roadCntr = regions[0].centroid\n",
    "newframe = cv.circle(fr, (int(roadCntr[1]), int(roadCntr[0])+10), 15, (255,0,0), -1)\n",
    "plt.imshow(newframe, cmap='gray')\n",
    "\n"
   ]
  },
  {
   "cell_type": "code",
   "execution_count": null,
   "metadata": {},
   "outputs": [],
   "source": [
    "testingfrs = frames_array[0:12,:,:,:]\n",
    "\n",
    "fig, axs = plt.subplots(3, 4, figsize=(20,10), subplot_kw={'xticks':[], 'yticks':[]})\n",
    "# plt.subplots_adjust(left=0, right=0.01, top=0.01, bottom=0)\n",
    "\n",
    "prevCenter = (0,0)\n",
    "for ax, fr in zip(axs.flat, testingfrs):\n",
    "    frBN = fr[:,:,1] < 90\n",
    "    frBN = frBN.astype(int)\n",
    "    regions = m.regionprops(frBN)\n",
    "    regions.sort(key=lambda x: x.area, reverse=True)\n",
    "    try:\n",
    "        roadCntr = regions[0].centroid\n",
    "        prevCenter = roadCntr\n",
    "    except:\n",
    "        roadCntr = prevCenter\n",
    "\n",
    "\n",
    "\n",
    "\n",
    "    ax.imshow(frBN, cmap='gray')\n",
    "    ax.plot(roadCntr[1], roadCntr[0], 'ro', markersize=5)\n",
    "\n",
    "plt.show()"
   ]
  },
  {
   "cell_type": "code",
   "execution_count": null,
   "metadata": {},
   "outputs": [],
   "source": []
  }
 ],
 "metadata": {
  "kernelspec": {
   "display_name": "Python 3",
   "language": "python",
   "name": "python3"
  },
  "language_info": {
   "codemirror_mode": {
    "name": "ipython",
    "version": 3
   },
   "file_extension": ".py",
   "mimetype": "text/x-python",
   "name": "python",
   "nbconvert_exporter": "python",
   "pygments_lexer": "ipython3",
   "version": "3.11.3"
  },
  "orig_nbformat": 4
 },
 "nbformat": 4,
 "nbformat_minor": 2
}
